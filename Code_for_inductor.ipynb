{
  "nbformat": 4,
  "nbformat_minor": 0,
  "metadata": {
    "colab": {
      "name": "Code for inductor.ipynb",
      "provenance": [],
      "collapsed_sections": []
    },
    "kernelspec": {
      "name": "python3",
      "display_name": "Python 3"
    },
    "language_info": {
      "name": "python"
    }
  },
  "cells": [
    {
      "cell_type": "code",
      "metadata": {
        "id": "Bq94s8LFRWq_"
      },
      "source": [
        "import pandas as pd\n",
        "import matplotlib.pyplot as plt\n",
        "import numpy as np\n",
        "import seaborn as sns\n",
        "from sklearn.metrics import mean_squared_error, r2_score\n",
        "from sklearn.model_selection import train_test_split\n",
        "from sklearn.metrics import mean_squared_error as MSE\n",
        "import tensorflow as tf\n",
        "from tensorflow import keras\n",
        "from keras.models import Sequential\n",
        "from keras.layers import Dense\n",
        "from keras.layers import LSTM\n",
        "from tensorflow.keras.layers import Input, Dense, Activation,Dropout\n",
        "from tensorflow.keras.models import Model\n",
        "from sklearn.preprocessing import MinMaxScaler\n",
        "from keras.layers import Bidirectional \n",
        "from keras import optimizers\n",
        "\n",
        "\n",
        "df = pd.read_excel('/content/drive/MyDrive/python/ind_data.xlsx')\n",
        " \n",
        "df1 = pd.read_excel('/content/drive/MyDrive/python/ind_op.xlsx')\n",
        "\n",
        "\n",
        "\n",
        "# import original input data\n",
        "ip = df.values\n",
        "\n",
        "\n",
        "a = df[0:1138]\n",
        "b = df[1138: 2276]\n",
        "o = np.stack((a,b))\n",
        "for m in range(49):\n",
        "\n",
        "    o = np.concatenate((o, [df[1138*(m+2):1138*(m+3)]]))\n",
        "\n",
        "\n",
        "\n",
        "#import output data\n",
        "y = df1[['R1 ', 'R2 ','C ', 'L ', 'k' ]]\n",
        "\n",
        "\n",
        "#defining the saclers \n",
        "scale_ip = MinMaxScaler()\n",
        "scale_op = MinMaxScaler()\n",
        "scale_test = MinMaxScaler()\n",
        "\n",
        "\n",
        "#Normalize\n",
        "\n",
        "tt = scale_ip.fit_transform(ip)\n",
        "\n",
        "\n",
        "#Split into train \n",
        "\n",
        "a_norm = tt[0:1138]\n",
        "b_norm = tt[1138: 2276]\n",
        "o_norm = np.stack((a_norm,b_norm))\n",
        "all = o_norm\n",
        "\n",
        "for m in range(49):\n",
        "    o_norm = np.concatenate((o_norm, [tt[1138*(m+2):1138*(m+3)]]))\n",
        "\n",
        "for m in range(55):\n",
        "    all = np.concatenate((all, [tt[1138*(m+2):1138*(m+3)]]))\n",
        "\n",
        "#Split into test \n",
        "p = all[51]\n",
        "q = all[52]\n",
        "r_new = np.stack((p,q))\n",
        "\n",
        "for m in range(4):\n",
        "    gh = all[m+53]\n",
        "    r_new = np.concatenate((r_new, gh.reshape(1, 1138, 8)))\n",
        "\n",
        "\n",
        "#importing Normalized input data\n",
        "y_norm = scale_op.fit_transform(y)\n",
        "\n",
        "\n",
        "\n",
        "x_norm = o_norm\n",
        "x_test = r_new\n",
        "\n",
        "\n",
        "x_norm = np.asarray(x_norm).astype('float32')\n",
        "y_norm = np.asarray(y_norm).astype('float32')\n",
        "\n",
        "\n",
        "#x_train, x_test, y_train, y_test = train_test_split(x, y, test_size = 0.3, random_state = 42)\n",
        "\n"
      ],
      "execution_count": null,
      "outputs": []
    },
    {
      "cell_type": "code",
      "metadata": {
        "id": "ZbqLvFtaRjvP"
      },
      "source": [
        "model = Sequential()\n",
        "model.add(Bidirectional(LSTM(256, return_sequences=True)))\n",
        "model.add(Bidirectional(LSTM(128, return_sequences=False)))\n",
        "model.add(Dense(5))\n",
        "model.compile(optimizer='adam', loss='mse')\n",
        "\n",
        "history = model.fit(x_norm, y_norm, epochs = 100, validation_split=0.2, verbose=1)\n"
      ],
      "execution_count": null,
      "outputs": []
    },
    {
      "cell_type": "code",
      "metadata": {
        "id": "HphrEs6KRwy_"
      },
      "source": [
        "test_input = x_test\n",
        "test_input = test_input.reshape(x_test.shape)\n",
        "test_output = model.predict(test_input, verbose=0)\n",
        "\n",
        "pred = scale_op.inverse_transform(test_output)\n",
        "print(pred)\n",
        "df5 = pd.read_excel('/content/drive/MyDrive/python/org_metrics_ind.xlsx')\n",
        "y_test = df5[['R1 ', 'R2 ','C ', 'L ', 'k' ]]\n",
        "org = df5.values\n",
        "print('R2 for :', r2_score(y_test, pred))\n",
        "print(mean_squared_error(y_test, pred))"
      ],
      "execution_count": null,
      "outputs": []
    }
  ]
}